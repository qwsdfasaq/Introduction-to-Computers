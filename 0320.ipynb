{
  "nbformat": 4,
  "nbformat_minor": 0,
  "metadata": {
    "colab": {
      "provenance": [],
      "authorship_tag": "ABX9TyNHKTbLMIYkXst1gH8Qqht2",
      "include_colab_link": true
    },
    "kernelspec": {
      "name": "python3",
      "display_name": "Python 3"
    },
    "language_info": {
      "name": "python"
    }
  },
  "cells": [
    {
      "cell_type": "markdown",
      "metadata": {
        "id": "view-in-github",
        "colab_type": "text"
      },
      "source": [
        "<a href=\"https://colab.research.google.com/github/qwsdfasaq/Introduction-to-Computers/blob/main/0320.ipynb\" target=\"_parent\"><img src=\"https://colab.research.google.com/assets/colab-badge.svg\" alt=\"Open In Colab\"/></a>"
      ]
    },
    {
      "cell_type": "code",
      "execution_count": 17,
      "metadata": {
        "colab": {
          "base_uri": "https://localhost:8080/"
        },
        "id": "-F6I4XUJlyqB",
        "outputId": "bbfdc3f2-183d-4cbc-b4dd-edccbc6e73b4"
      },
      "outputs": [
        {
          "output_type": "stream",
          "name": "stdout",
          "text": [
            "請輸入您的國文成績50\n",
            "請輸入您的英文成績60\n",
            "請輸入您的數學成績70\n",
            "您的成績為180.0\n"
          ]
        }
      ],
      "source": [
        "c = float(input(\"請輸入您的國文成績\"))\n",
        "e = float(input(\"請輸入您的英文成績\"))\n",
        "m = float(input(\"請輸入您的數學成績\"))\n",
        "t = c+e+m\n",
        "print(\"您的成績為\" + str(t))"
      ]
    },
    {
      "cell_type": "code",
      "source": [
        "a = float(input(\"請輸入上底長度\"))\n",
        "b = float(input(\"請輸入下底長度\"))\n",
        "c = float(input(\"請輸入高度\"))\n",
        "A = (a+b)*c/2\n",
        "print(\"上底長度為: %d 下底長度為: %d 高度為: %d 梯形面積為: %.2f\" %(a,b,c,A))"
      ],
      "metadata": {
        "colab": {
          "base_uri": "https://localhost:8080/"
        },
        "id": "aXph8UoOncBy",
        "outputId": "398109d2-7da8-499c-b4fb-3ce4a9ccb62e"
      },
      "execution_count": 14,
      "outputs": [
        {
          "output_type": "stream",
          "name": "stdout",
          "text": [
            "請輸入上底長度3\n",
            "請輸入下底長度4\n",
            "請輸入高度3\n",
            "上底長度為: 3 下底長度為: 4 高度為: 3 梯形面積為: 10.50\n"
          ]
        }
      ]
    },
    {
      "cell_type": "code",
      "source": [
        "h = float(input(\"請輸入您的身高(cm)\"))\n",
        "w = float(input(\"請輸入您的體重(kg)\"))\n",
        "hm = h / 100\n",
        "bmi = w/(hm*hm)\n",
        "print(\"身高為 %.2f 公分,體重為 %.2f 公斤,bmi為 %0.2f\" % (h,w,bmi))"
      ],
      "metadata": {
        "colab": {
          "base_uri": "https://localhost:8080/"
        },
        "id": "Ra1vQsJ-sDQw",
        "outputId": "223efedc-db33-4126-c111-ab82c100196d"
      },
      "execution_count": 16,
      "outputs": [
        {
          "output_type": "stream",
          "name": "stdout",
          "text": [
            "請輸入您的身高(cm)180\n",
            "請輸入您的體重(kg)80\n",
            "身高為 180.00 公分,體重為 80.00 公斤,bmi為 24.69\n"
          ]
        }
      ]
    }
  ]
}