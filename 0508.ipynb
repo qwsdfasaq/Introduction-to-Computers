{
  "nbformat": 4,
  "nbformat_minor": 0,
  "metadata": {
    "colab": {
      "provenance": [],
      "authorship_tag": "ABX9TyPAJLv79zhyPmndb0h4OrV3",
      "include_colab_link": true
    },
    "kernelspec": {
      "name": "python3",
      "display_name": "Python 3"
    },
    "language_info": {
      "name": "python"
    }
  },
  "cells": [
    {
      "cell_type": "markdown",
      "metadata": {
        "id": "view-in-github",
        "colab_type": "text"
      },
      "source": [
        "<a href=\"https://colab.research.google.com/github/qwsdfasaq/Introduction-to-Computers/blob/main/0508.ipynb\" target=\"_parent\"><img src=\"https://colab.research.google.com/assets/colab-badge.svg\" alt=\"Open In Colab\"/></a>"
      ]
    },
    {
      "cell_type": "code",
      "execution_count": 18,
      "metadata": {
        "colab": {
          "base_uri": "https://localhost:8080/"
        },
        "id": "GNRNeqeQXKw7",
        "outputId": "69b95ab6-721d-4516-88fd-092284e3e83c"
      },
      "outputs": [
        {
          "output_type": "stream",
          "name": "stdout",
          "text": [
            "38\n",
            "體溫過高!\n"
          ]
        }
      ],
      "source": [
        "a = float(input())\n",
        "if (34 <= a):\n",
        "  if (a >= 37.5):\n",
        "    print(\"體溫過高!\")\n",
        "  elif (37.5 > a >= 37):\n",
        "    print(\"體溫略高!\")\n",
        "  elif (37 > a >=34):\n",
        "    print(\"體溫正常!\")\n",
        "else:\n",
        "  print(\"體溫異常，請重新量測\")"
      ]
    },
    {
      "cell_type": "code",
      "source": [
        "a = float(input())\n",
        "if (a > 60):\n",
        "  if (a >= 90):\n",
        "    print(\"A\")\n",
        "  elif (90 > a >= 80):\n",
        "    print(\"B\")\n",
        "  elif (80 > a >= 70):\n",
        "    print(\"C\")\n",
        "  elif (70 > a >= 60):\n",
        "    print(\"D\")\n",
        "else:\n",
        "  print(\"E\")"
      ],
      "metadata": {
        "colab": {
          "base_uri": "https://localhost:8080/"
        },
        "id": "IORI_0SvbNkR",
        "outputId": "46e9a81b-452a-441c-cff8-5d7bd5ea346f"
      },
      "execution_count": 20,
      "outputs": [
        {
          "output_type": "stream",
          "name": "stdout",
          "text": [
            "79.99\n",
            "C\n"
          ]
        }
      ]
    },
    {
      "cell_type": "code",
      "source": [
        "a = int(input())\n",
        "if (1<= a <=12):\n",
        "  if (3 <= a <= 5):\n",
        "    print(\"%a is spring\" %a)\n",
        "  elif (6 <= a <= 8):\n",
        "    print(\"%a is summer\" %a)\n",
        "  elif (9 <= a <= 11):\n",
        "    print(\"%a is autumn\" %a)\n",
        "  else:\n",
        "    print(\"%a is winter\" %a)\n",
        "else:\n",
        "  print(\"不在月分內\")"
      ],
      "metadata": {
        "colab": {
          "base_uri": "https://localhost:8080/"
        },
        "id": "rl2WaGgHb8f_",
        "outputId": "95844123-769d-48e4-ca02-8d7c1796c595"
      },
      "execution_count": 23,
      "outputs": [
        {
          "output_type": "stream",
          "name": "stdout",
          "text": [
            "12\n",
            "12 is winter\n"
          ]
        }
      ]
    }
  ]
}