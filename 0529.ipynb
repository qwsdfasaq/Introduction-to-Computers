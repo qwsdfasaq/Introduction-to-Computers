{
  "nbformat": 4,
  "nbformat_minor": 0,
  "metadata": {
    "colab": {
      "provenance": [],
      "authorship_tag": "ABX9TyNMQNNFJxW1dz0aUplu016O",
      "include_colab_link": true
    },
    "kernelspec": {
      "name": "python3",
      "display_name": "Python 3"
    },
    "language_info": {
      "name": "python"
    }
  },
  "cells": [
    {
      "cell_type": "markdown",
      "metadata": {
        "id": "view-in-github",
        "colab_type": "text"
      },
      "source": [
        "<a href=\"https://colab.research.google.com/github/qwsdfasaq/Introduction-to-Computers/blob/main/0529.ipynb\" target=\"_parent\"><img src=\"https://colab.research.google.com/assets/colab-badge.svg\" alt=\"Open In Colab\"/></a>"
      ]
    },
    {
      "cell_type": "code",
      "source": [
        "a = range(0,8+1)\n",
        "print(list(a))\n",
        "b = range(1,9+1)\n",
        "print(list(b))\n",
        "c = range(1,10,2)\n",
        "print(list(c))\n",
        "d = range(10,0,-2)\n",
        "print(list(d))"
      ],
      "metadata": {
        "colab": {
          "base_uri": "https://localhost:8080/"
        },
        "id": "o1XaF0yGKhfr",
        "outputId": "99416e44-c420-4d01-b393-676738675e86"
      },
      "execution_count": 12,
      "outputs": [
        {
          "output_type": "stream",
          "name": "stdout",
          "text": [
            "[0, 1, 2, 3, 4, 5, 6, 7, 8]\n",
            "[1, 2, 3, 4, 5, 6, 7, 8, 9]\n",
            "[1, 3, 5, 7, 9]\n",
            "[10, 8, 6, 4, 2]\n"
          ]
        }
      ]
    },
    {
      "cell_type": "code",
      "source": [
        "a = int(input(\"請輸入一個正整數:\"))\n",
        "for i in range(1,a+1):\n",
        "  print(i,end = \" \")"
      ],
      "metadata": {
        "colab": {
          "base_uri": "https://localhost:8080/"
        },
        "id": "lYbgyJQWNE4W",
        "outputId": "724ef06d-be2c-4129-f8a6-3c316861f36a"
      },
      "execution_count": 17,
      "outputs": [
        {
          "output_type": "stream",
          "name": "stdout",
          "text": [
            "請輸入一個正整數:5\n",
            "1 2 3 4 5 "
          ]
        }
      ]
    },
    {
      "cell_type": "code",
      "execution_count": 3,
      "metadata": {
        "colab": {
          "base_uri": "https://localhost:8080/"
        },
        "id": "oG4XGgj0Iy37",
        "outputId": "883af5c3-d73f-4b15-8f46-f158ceb486d1"
      },
      "outputs": [
        {
          "output_type": "stream",
          "name": "stdout",
          "text": [
            "請輸入一個正整數:50\n",
            "1到50的整數合為1275\n"
          ]
        }
      ],
      "source": [
        "a = int(input(\"請輸入一個正整數:\"))\n",
        "sum = 0\n",
        "for i in range(1,a+1):\n",
        "  sum = sum+i\n",
        "print(\"1到%d的整數合為%d\" % (a,sum))\n"
      ]
    },
    {
      "cell_type": "code",
      "source": [
        "a = int(input(\"請輸入一個正整數:\"))\n",
        "sum = 0\n",
        "for i in range(1,a+1):\n",
        "  sum = sum+i\n",
        "  print(\"1到%d的整數合為%d\" % (a,sum))"
      ],
      "metadata": {
        "colab": {
          "base_uri": "https://localhost:8080/"
        },
        "id": "QV0RqAR6Jlx_",
        "outputId": "7f00f8bf-43fe-4591-be90-f36da959f67a"
      },
      "execution_count": 5,
      "outputs": [
        {
          "output_type": "stream",
          "name": "stdout",
          "text": [
            "請輸入一個正整數:10\n",
            "1到10的整數合為1\n",
            "1到10的整數合為3\n",
            "1到10的整數合為6\n",
            "1到10的整數合為10\n",
            "1到10的整數合為15\n",
            "1到10的整數合為21\n",
            "1到10的整數合為28\n",
            "1到10的整數合為36\n",
            "1到10的整數合為45\n",
            "1到10的整數合為55\n"
          ]
        }
      ]
    }
  ]
}